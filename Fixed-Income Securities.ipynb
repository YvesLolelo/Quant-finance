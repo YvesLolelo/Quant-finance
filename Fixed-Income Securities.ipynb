{
 "cells": [
  {
   "cell_type": "markdown",
   "id": "74064548",
   "metadata": {},
   "source": [
    "  # <center> Valuation of a loan </center>\n",
    "\n",
    "\n",
    "$$\n",
    "PV(y) = \\frac{N}{(1 + y)^n} + \\sum_{i = 0}^{n}\\frac{c*N}{(1 + y)^i}\n",
    "$$\n",
    "\n",
    "# <center> Yield to maturity </center>\n",
    "\n",
    "$$\n",
    "PV(y) = Price \\iff f(y) = \\frac{N}{(1 + y)^n} + \\sum_{i = 1}^{n}\\frac{c*N}{(1 + y)^i} - Price = 0\n",
    "$$\n",
    "\n",
    "$$\n",
    "f^{'}(y) = -100n (1 + y)^{-n -1} +  \\sum_{i = 1}^{n}-iC(1 + y)^{-i -1}\n",
    "$$\n",
    "\n",
    "## <center> Root finding using Newton-Rhapson method </center>\n",
    "\n",
    "Suppose $y_0$ is an initial guess of the root of $f(y)$, then\n",
    "\n",
    "$$\n",
    "y_1 = y_0 - \\frac{f(y_0)}{f^{'}(y_0)}\n",
    "$$\n",
    "\n",
    "is the unique root of the linear approximation of $f$ at the initial guess $y_0$. Repeat the process iteratively, we have\n",
    "\n",
    "$$\n",
    "y_{n+1} = y_{n} - \\frac{f(y_{n})}{f^{'}(y_{n})}\n",
    "$$\n"
   ]
  },
  {
   "cell_type": "code",
   "execution_count": 34,
   "id": "52775571",
   "metadata": {},
   "outputs": [],
   "source": [
    "import math\n",
    "import matplotlib.pyplot as plt\n",
    "\n",
    "class Bond:\n",
    "    def __init__(self, maturity, coupon):\n",
    "        self.maturity = maturity\n",
    "        self.coupon = coupon\n",
    "        \n",
    "    # Present value of the bond\n",
    "    def PV(self,y):\n",
    "        sum = 100*math.pow(1 + y, -self.maturity)\n",
    "        for i in range(1, self.maturity + 1):\n",
    "            sum += self.coupon*math.pow(1 + y, -i)  \n",
    "        return round(sum, 2)\n",
    "    \n",
    "    # Derivative of Present value\n",
    "    def PV_derivative(self,y):\n",
    "        sum = -100*self.maturity*math.pow(1 + y, -self.maturity-1)\n",
    "        for i in range(1, self.maturity + 1):\n",
    "            sum += -self.coupon*i*math.pow(1 + y, -i-1)  \n",
    "        return round(sum, 2)\n",
    "    \n",
    "    # Yield to Maturity\n",
    "    def YTM(self, price):\n",
    "        y = 0.2\n",
    "        while (round(abs(self.PV(y) - price)) > 0):\n",
    "            y = y - (self.PV(y) - price )/(self.PV_derivative(y))\n",
    "            print(y)\n",
    "        return y     \n",
    "        "
   ]
  },
  {
   "cell_type": "code",
   "execution_count": 35,
   "id": "b5709316",
   "metadata": {},
   "outputs": [],
   "source": [
    "bond = Bond(100,4)"
   ]
  },
  {
   "cell_type": "code",
   "execution_count": 52,
   "id": "236a384a",
   "metadata": {
    "scrolled": true
   },
   "outputs": [
    {
     "name": "stdout",
     "output_type": "stream",
     "text": [
      "-0.53\n",
      "-0.5252970733193778\n",
      "-0.5205470066672766\n",
      "-0.5157493234316682\n",
      "-0.5109035419288419\n",
      "-0.5060091753307598\n",
      "-0.501065731589802\n",
      "-0.4960727133606849\n",
      "-0.4910296179193119\n",
      "-0.4859359370782896\n",
      "-0.48079115709881015\n",
      "-0.4755947585985652\n",
      "-0.47034621645531777\n",
      "-0.4650449997057118\n",
      "-0.45969057143884756\n",
      "-0.4542823886840913\n",
      "-0.44881990229251884\n",
      "-0.44330255681131553\n",
      "-0.4377297903503638\n",
      "-0.43210103444014564\n",
      "-0.4264157138799677\n",
      "-0.4206732465753764\n",
      "-0.4148730433634696\n",
      "-0.40901450782462107\n",
      "-0.4030970360789163\n",
      "-0.3971200165653374\n",
      "-0.3910828298014339\n",
      "-0.38498484812085776\n",
      "-0.378825435385721\n",
      "-0.3726039466702319\n",
      "-0.3663197279114726\n",
      "-0.35997211552247066\n",
      "-0.3535604359618657\n",
      "-0.34708400525345073\n",
      "-0.34054212844763143\n",
      "-0.3339340990153511\n",
      "-0.32725919816320587\n",
      "-0.3205166940562456\n",
      "-0.31370584093221765\n",
      "-0.30682587808762796\n",
      "-0.29987602871179597\n",
      "-0.2928554985398384\n",
      "-0.28576347428893856\n",
      "-0.2785991218339481\n",
      "-0.27136158406780325\n",
      "-0.26404997837871774\n",
      "-0.2566633936586821\n",
      "-0.24920088673515348\n",
      "-0.24166147808815783\n",
      "-0.23404414667583734\n",
      "-0.22634782363920863\n",
      "-0.21857138458649936\n",
      "-0.21071364006158086\n",
      "-0.2027733236690044\n",
      "-0.19474907714405548\n",
      "-0.18663943139604333\n",
      "-0.17844278217988604\n",
      "-0.17015735850739422\n",
      "-0.16178118110400921\n",
      "-0.1533120070007728\n",
      "-0.14474725447977033\n",
      "-0.1360838996508905\n",
      "-0.12731833121853425\n",
      "-0.11844614225836053\n",
      "-0.10946182487902116\n",
      "-0.10035831156518989\n",
      "-0.09112626883696621\n",
      "-0.08175298232629612\n",
      "-0.07222055694151673\n",
      "-0.06250295901978409\n",
      "-0.052561115448747565\n",
      "-0.042334857848482704\n",
      "-0.031730272927966846\n",
      "-0.020602531727831604\n",
      "-0.008744109004814201\n",
      "0.004067694624503206\n",
      "0.017760213997242147\n",
      "0.030961766363360108\n",
      "0.04002533633198521\n",
      "0.04286072062052437\n"
     ]
    }
   ],
   "source": [
    "price = 93\n",
    "ytm = bond.YTM(price)"
   ]
  },
  {
   "cell_type": "code",
   "execution_count": 44,
   "id": "aaf7ee98",
   "metadata": {},
   "outputs": [
    {
     "data": {
      "text/plain": [
       "93.43"
      ]
     },
     "execution_count": 44,
     "metadata": {},
     "output_type": "execute_result"
    }
   ],
   "source": [
    "# Par value, which should be equal to the present value\n",
    "pv = bond.PV(ytm)\n",
    "pv"
   ]
  },
  {
   "cell_type": "markdown",
   "id": "a59390ca",
   "metadata": {},
   "source": [
    "# <center> Plotting </center>"
   ]
  },
  {
   "cell_type": "code",
   "execution_count": 43,
   "id": "97da42f9",
   "metadata": {},
   "outputs": [
    {
     "data": {
      "image/png": "[encoded data removed]",
      "text/plain": [
       "<Figure size 640x480 with 1 Axes>"
      ]
     },
     "metadata": {},
     "output_type": "display_data"
    }
   ],
   "source": [
    "ir = range(9)\n",
    "\n",
    "pvs = [ bond.PV(i) for i in ir]\n",
    "\n",
    "tangent = [bond.PV(0) - price + i*bond.PV_derivative(0) for i in ir]\n",
    "tangent4 = [bond.PV(0.04) - price + (i - 4)*bond.PV_derivative(0.04) for i in ir]\n",
    "\n",
    "plt.plot(ir, pvs, color =\"red\")\n",
    "plt.grid(True)\n",
    "plt.axvline(x = ytm*100, color = \"yellow\")\n",
    "plt.plot(ir, tangent)\n",
    "plt.plot(ir, tangent4)\n",
    "plt.show()"
   ]
  },
  {
   "cell_type": "markdown",
   "id": "08fef41e",
   "metadata": {},
   "source": [
    "# <center> Loan </center>"
   ]
  },
  {
   "cell_type": "code",
   "execution_count": 49,
   "id": "491701b9",
   "metadata": {},
   "outputs": [
    {
     "data": {
      "text/plain": [
       "<__main__.Loan at 0x25055fa8b90>"
      ]
     },
     "execution_count": 49,
     "metadata": {},
     "output_type": "execute_result"
    }
   ],
   "source": [
    "class Loan:\n",
    "    def __init__(self, notional, redemption, ir):\n",
    "        self.notional = notional\n",
    "        self.redemption = redemption\n",
    "        self.ir = ir\n",
    "    # Future value\n",
    "    def FV(self):\n",
    "        return self.redemption - self.notional*(1 + self.ir)\n",
    "    def PV(self):\n",
    "        return self.redemption/(1 + self.ir) - self.notional\n",
    "\n",
    "        \n",
    "loan = Loan(100, 105, 0.04)\n",
    "loan    "
   ]
  },
  {
   "cell_type": "code",
   "execution_count": 51,
   "id": "556174b2",
   "metadata": {},
   "outputs": [
    {
     "data": {
      "text/plain": [
       "(0.9615384615384528, 1.0)"
      ]
     },
     "execution_count": 51,
     "metadata": {},
     "output_type": "execute_result"
    }
   ],
   "source": [
    "loan.PV(), loan.FV()"
   ]
  },
  {
   "cell_type": "code",
   "execution_count": null,
   "id": "aeeb132c",
   "metadata": {},
   "outputs": [],
   "source": []
  }
 ],
 "metadata": {
  "kernelspec": {
   "display_name": "Python 3 (ipykernel)",
   "language": "python",
   "name": "python3"
  },
  "language_info": {
   "codemirror_mode": {
    "name": "ipython",
    "version": 3
   },
   "file_extension": ".py",
   "mimetype": "text/x-python",
   "name": "python",
   "nbconvert_exporter": "python",
   "pygments_lexer": "ipython3",
   "version": "3.11.5"
  }
 },
 "nbformat": 4,
 "nbformat_minor": 5
}
